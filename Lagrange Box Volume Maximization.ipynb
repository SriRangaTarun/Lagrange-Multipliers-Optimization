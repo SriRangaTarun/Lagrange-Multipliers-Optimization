{
 "cells": [
  {
   "cell_type": "code",
   "execution_count": 1,
   "metadata": {},
   "outputs": [],
   "source": [
    "from sympy import symbols, diff\n",
    "from sympy.solvers import solve\n",
    "\n",
    "def lagrange_maximize_3d(obj_func, const_func, const_value):\n",
    "    \"\"\"Implementation of Lagrange Multipliers for maximizing\n",
    "       functions subject to constraints.\n",
    "       \n",
    "       Here, I demonstrate how this method can be used to maximize functions with 3 variables\n",
    "       subject to one constraint function in the same variables\"\"\"\n",
    "    \n",
    "    x, y, z, lambda0 = symbols('x y z lambda0', real=True)\n",
    "    gradF = [diff(obj_func(x,y,z), x), diff(obj_func(x, y, z), y), diff(obj_func(x, y, z), z), const_func(x, y, z)]\n",
    "    gradG = [diff(const_func(x,y,z), x), diff(const_func(x, y, z), y), diff(const_func(x, y, z), z), const_value]\n",
    "    grad = []\n",
    "\n",
    "    for i in range(0, len(gradF)):\n",
    "    \n",
    "        if(i != len(gradF) - 1):\n",
    "            grad.append(gradF[i] - lambda0 * gradG[i])\n",
    "        \n",
    "        else:\n",
    "            grad.append(gradF[i] - gradG[i])\n",
    "\n",
    "    sol = solve(grad, x, y, z, lambda0)\n",
    "\n",
    "    values = []\n",
    "    for solution in sol:\n",
    "        x0 = solution[0]\n",
    "        y0 = solution[1]\n",
    "        z0 = solution[2]\n",
    "    \n",
    "        values.append(obj_func(x0, y0, z0))\n",
    "        \n",
    "    sol_index = list.index(values, max(values))\n",
    "    final_solution = sol[sol_index]\n",
    "    \n",
    "    print(\"Optimal values for maximizing the objective function when the constraint function equals \" + str(const_value) + \" : \")\n",
    "    #print(\"\")\n",
    "    print(\"x : \" + str(final_solution[0]))\n",
    "    print(\"y : \" + str(final_solution[1]))\n",
    "    print(\"z : \" + str(final_solution[2]))\n",
    "    #print(\"\")\n",
    "    print(\"Maximum value of the objective function : \" + str(obj_func(x0, y0, z0)))"
   ]
  },
  {
   "cell_type": "markdown",
   "metadata": {},
   "source": [
    "**Here is an example of Langrange Optimization. I use this algorithm to maximize the volume of a box with a surface area of only 24 units. The sides of the cuboid measure x, y, and z units respectively. For example, this can be used by a company with limited cardboard, who wants to maximize the capacity of their cardboard boxes.** "
   ]
  },
  {
   "cell_type": "code",
   "execution_count": 2,
   "metadata": {},
   "outputs": [
    {
     "name": "stdout",
     "output_type": "stream",
     "text": [
      "Enter value of constraint function : 24\n"
     ]
    }
   ],
   "source": [
    "surf = input(\"Enter value of constraint function : \")\n",
    "\n",
    "# Example constraint function : g(x, y, z) = 2*(x*y + y*z + z*x). Surface area of a cuboidal box\n",
    "\n",
    "def g(x, y, z):\n",
    "    surf = 2*(x*y + y*z + z*x)\n",
    "    return surf\n",
    "\n",
    "# Example objective function : f(x, y, z) = x*y*z. Volume of a cuboidal box\n",
    "\n",
    "def f(x, y, z):\n",
    "    vol = x*y*z\n",
    "    return vol"
   ]
  },
  {
   "cell_type": "code",
   "execution_count": 3,
   "metadata": {},
   "outputs": [
    {
     "name": "stdout",
     "output_type": "stream",
     "text": [
      "Optimal values for maximizing the objective function when the constraint function equals 24 : \n",
      "x : 2\n",
      "y : 2\n",
      "z : 2\n",
      "Maximum value of the objective function : 8\n"
     ]
    }
   ],
   "source": [
    "lagrange_maximize_3d(obj_func=f, const_func=g, const_value=surf)"
   ]
  },
  {
   "cell_type": "markdown",
   "metadata": {},
   "source": [
    "**So, it looks like the volume of the carboard box is maximized when it is a cube of side 2**"
   ]
  },
  {
   "cell_type": "code",
   "execution_count": null,
   "metadata": {},
   "outputs": [],
   "source": []
  }
 ],
 "metadata": {
  "kernelspec": {
   "display_name": "Python 2",
   "language": "python",
   "name": "python2"
  },
  "language_info": {
   "codemirror_mode": {
    "name": "ipython",
    "version": 2
   },
   "file_extension": ".py",
   "mimetype": "text/x-python",
   "name": "python",
   "nbconvert_exporter": "python",
   "pygments_lexer": "ipython2",
   "version": "2.7.10"
  }
 },
 "nbformat": 4,
 "nbformat_minor": 2
}
